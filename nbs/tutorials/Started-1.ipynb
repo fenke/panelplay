{
 "cells": [
  {
   "cell_type": "code",
   "execution_count": null,
   "id": "8bb03ec8",
   "metadata": {},
   "outputs": [],
   "source": []
  },
  {
   "cell_type": "markdown",
   "id": "f97c3317",
   "metadata": {},
   "source": [
    "# Get Started\n",
    "\n",
    "## Building a Panel App\n",
    "\n",
    "```python\n",
    "import panel as pn\n",
    "pn.extension()\n",
    "```"
   ]
  },
  {
   "cell_type": "code",
   "execution_count": null,
   "id": "7849ef8e",
   "metadata": {},
   "outputs": [],
   "source": [
    "import hvplot.pandas\n",
    "import numpy as np\n",
    "import pandas as pd\n",
    "import panel as pn"
   ]
  },
  {
   "cell_type": "code",
   "execution_count": null,
   "id": "8439d063",
   "metadata": {},
   "outputs": [],
   "source": [
    "PRIMARY_COLOR = \"#0072B5\"\n",
    "SECONDARY_COLOR = \"#B54300\"\n",
    "CSV_FILE = (\n",
    "    \"https://raw.githubusercontent.com/holoviz/panel/main/examples/assets/occupancy.csv\"\n",
    "\n",
    ")"
   ]
  },
  {
   "cell_type": "code",
   "execution_count": null,
   "id": "6a73c6c5",
   "metadata": {},
   "outputs": [],
   "source": [
    "pn.extension(design=\"material\", sizing_mode=\"stretch_width\")"
   ]
  },
  {
   "cell_type": "code",
   "execution_count": null,
   "id": "bdf2215b",
   "metadata": {},
   "outputs": [],
   "source": [
    "@pn.cache\n",
    "def load_data():\n",
    "    return pd.read_csv(CSV_FILE, parse_dates=[\"date\"], index_col=\"date\")\n",
    "\n",
    "data   = load_data()\n",
    "data.tail()"
   ]
  },
  {
   "cell_type": "code",
   "execution_count": null,
   "id": "3cb27bc2",
   "metadata": {},
   "outputs": [],
   "source": [
    "def transform_data(column, window=30, sigma=10):\n",
    "    avg = data[column].rolling(window=window).mean()\n",
    "    residue = data[column] - avg\n",
    "    std = residue.rolling(window=window).std()\n",
    "    outliers = np.abs(residue) > sigma * std\n",
    "    return avg, avg[outliers]"
   ]
  },
  {
   "cell_type": "code",
   "execution_count": null,
   "id": "b86f02c5",
   "metadata": {},
   "outputs": [],
   "source": [
    "def get_plot(column, window, sigma):\n",
    "    avg, outliers = transform_data(column, window, sigma)\n",
    "    return avg.hvplot(\n",
    "        height=300, legend=False, color=PRIMARY_COLOR\n",
    "    ) * outliers.hvplot.scatter(color=SECONDARY_COLOR, padding=0.1, legend=False)"
   ]
  },
  {
   "cell_type": "code",
   "execution_count": null,
   "id": "c83584db",
   "metadata": {},
   "outputs": [],
   "source": [
    "get_plot('Temperature', window=20, sigma=10)"
   ]
  },
  {
   "cell_type": "code",
   "execution_count": null,
   "id": "dc049786",
   "metadata": {},
   "outputs": [],
   "source": []
  },
  {
   "cell_type": "code",
   "execution_count": null,
   "id": "1fb484a9",
   "metadata": {},
   "outputs": [],
   "source": [
    "column_widget = pn.widgets.Select(name='Column', value='Temperature', options=list(data.columns))\n",
    "window_widget = pn.widgets.IntSlider(name='Window', value=30, start=1, end=60)\n",
    "sigma_widget = pn.widgets.IntSlider(name='Sigma', value=10, start=1, end=30)"
   ]
  },
  {
   "cell_type": "code",
   "execution_count": null,
   "id": "b074b199",
   "metadata": {},
   "outputs": [],
   "source": [
    "bound_plot = pn.bind(get_plot, column=column_widget, window=window_widget, sigma=sigma_widget)\n"
   ]
  },
  {
   "cell_type": "code",
   "execution_count": null,
   "id": "ecff7485",
   "metadata": {},
   "outputs": [],
   "source": [
    "widgets = pn.Column(column_widget, window_widget, sigma_widget, sizing_mode='fixed', width=300)\n",
    "pn.Column(widgets, bound_plot)"
   ]
  },
  {
   "cell_type": "code",
   "execution_count": null,
   "id": "e7db26d1",
   "metadata": {},
   "outputs": [],
   "source": [
    "pn.template.MaterialTemplate(\n",
    "    site=\"Panel\",\n",
    "    title=\"Getting Started App\",\n",
    "    sidebar=[column_widget, window_widget, sigma_widget],\n",
    "    main=[bound_plot],\n",
    ").servable(); # The ; is needed in the notebook to not display the template. Its not needed in a script"
   ]
  },
  {
   "cell_type": "code",
   "execution_count": null,
   "id": "546f0558-e257-460c-847f-da92180b6207",
   "metadata": {},
   "outputs": [],
   "source": []
  }
 ],
 "metadata": {
  "kernelspec": {
   "display_name": "panelplay",
   "language": "python",
   "name": "panelplay"
  }
 },
 "nbformat": 4,
 "nbformat_minor": 5
}
