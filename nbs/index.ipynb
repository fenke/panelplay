{
 "cells": [
  {
   "cell_type": "code",
   "execution_count": null,
   "metadata": {},
   "outputs": [],
   "source": [
    "#| hide\n",
    "from panelplay.core import *"
   ]
  },
  {
   "cell_type": "markdown",
   "metadata": {},
   "source": [
    "# panelplay\n",
    "\n",
    "> Playing with Holoviz/Panel"
   ]
  },
  {
   "cell_type": "markdown",
   "metadata": {},
   "source": [
    "This file will become your README and also the index of your documentation."
   ]
  },
  {
   "cell_type": "markdown",
   "metadata": {},
   "source": [
    "## Developer Guide"
   ]
  },
  {
   "cell_type": "markdown",
   "metadata": {},
   "source": [
    "If you are new to using `nbdev` and/or Holoviz/Panelhere are some useful pointers to get you started.\n",
    "\n",
    "* [NBDEV Quick Start Guide](https://nbdev.fast.ai/tutorials/tutorial.html)\n",
    "* [Panel Quick Start Guide](https://panel.holoviz.org/user_guide/Quick_Start.html) and [Notebook development](https://panel.holoviz.org/how_to/notebook/index.html).\n"
   ]
  },
  {
   "cell_type": "code",
   "execution_count": null,
   "metadata": {},
   "outputs": [],
   "source": []
  },
  {
   "cell_type": "markdown",
   "metadata": {},
   "source": [
    "### Install panelplay in Development mode"
   ]
  },
  {
   "cell_type": "markdown",
   "metadata": {},
   "source": [
    "```sh\n",
    "# make sure panelplay package is installed in development mode\n",
    "$ pip install -e .\n",
    "\n",
    "# make changes under nbs/ directory\n",
    "# ...\n",
    "\n",
    "# compile to have changes apply to panelplay\n",
    "$ nbdev_prepare\n",
    "```"
   ]
  },
  {
   "cell_type": "markdown",
   "metadata": {},
   "source": [
    "## Usage"
   ]
  },
  {
   "cell_type": "markdown",
   "metadata": {},
   "source": [
    "### Installation"
   ]
  },
  {
   "cell_type": "markdown",
   "metadata": {},
   "source": [
    "Install latest from the GitHub [repository][repo]:\n",
    "\n",
    "```sh\n",
    "$ pip install git+https://github.com/fenke/panelplay.git\n",
    "```\n",
    "\n",
    "or from [pypi][pypi]\n",
    "\n",
    "\n",
    "```sh\n",
    "$ pip install panelplay\n",
    "```\n",
    "\n",
    "\n",
    "[repo]: https://github.com/fenke/panelplay\n",
    "[docs]: https://fenke.github.io/panelplay/\n",
    "[pypi]: https://pypi.org/project/panelplay/\n",
    "[conda]: https://anaconda.org/fenke/panelplay"
   ]
  },
  {
   "cell_type": "markdown",
   "metadata": {},
   "source": [
    "### Documentation"
   ]
  },
  {
   "cell_type": "markdown",
   "metadata": {},
   "source": [
    "Documentation can be found hosted on this GitHub [repository][repo]'s [pages][docs]. Additionally you can find package manager specific guidelines on [conda][conda] and [pypi][pypi] respectively.\n",
    "\n",
    "[repo]: https://github.com/fenke/panelplay\n",
    "[docs]: https://fenke.github.io/panelplay/\n",
    "[pypi]: https://pypi.org/project/panelplay/\n",
    "[conda]: https://anaconda.org/fenke/panelplay"
   ]
  },
  {
   "cell_type": "code",
   "execution_count": null,
   "metadata": {},
   "outputs": [],
   "source": []
  }
 ],
 "metadata": {
  "kernelspec": {
   "display_name": "panelplay",
   "language": "python",
   "name": "panelplay"
  }
 },
 "nbformat": 4,
 "nbformat_minor": 4
}
